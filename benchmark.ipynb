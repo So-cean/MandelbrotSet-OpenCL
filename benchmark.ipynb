{
 "cells": [
  {
   "cell_type": "code",
   "execution_count": 1,
   "metadata": {},
   "outputs": [
    {
     "name": "stdout",
     "output_type": "stream",
     "text": [
      "CPU FP64 算力: 434.97 GFLOPs\n"
     ]
    }
   ],
   "source": [
    "import numpy as np\n",
    "import time\n",
    "\n",
    "# 定义矩阵大小\n",
    "N = 4096\n",
    "\n",
    "# 创建随机矩阵\n",
    "A = np.random.rand(N, N).astype(np.float64)\n",
    "B = np.random.rand(N, N).astype(np.float64)\n",
    "\n",
    "# 记录开始时间\n",
    "start_time = time.time()\n",
    "\n",
    "# 执行矩阵乘法\n",
    "C = np.dot(A, B)\n",
    "\n",
    "# 记录结束时间\n",
    "end_time = time.time()\n",
    "\n",
    "# 计算执行时间\n",
    "execution_time = end_time - start_time\n",
    "\n",
    "# 计算浮点运算次数 (FLOPs)\n",
    "flops = 2 * N**3\n",
    "\n",
    "# 计算算力 (FLOPs per second)\n",
    "flops_per_second = flops / execution_time\n",
    "\n",
    "# 转换为 GFLOPs\n",
    "gflops = flops_per_second / 1e9\n",
    "\n",
    "print(f\"CPU FP64 算力: {gflops:.2f} GFLOPs\")"
   ]
  },
  {
   "cell_type": "code",
   "execution_count": 2,
   "metadata": {},
   "outputs": [
    {
     "name": "stdout",
     "output_type": "stream",
     "text": [
      "GPU FP64 算力: 1703.79 GFLOPs\n"
     ]
    }
   ],
   "source": [
    "import torch\n",
    "import time\n",
    "\n",
    "# 定义矩阵大小\n",
    "N = 4096\n",
    "\n",
    "# 创建随机矩阵\n",
    "A = torch.rand(N, N, device='cuda').double()\n",
    "B = torch.rand(N, N, device='cuda').double()\n",
    "\n",
    "# 记录开始时间\n",
    "start_time = time.time()\n",
    "\n",
    "# 执行矩阵乘法\n",
    "C = torch.mm(A, B)\n",
    "\n",
    "# 记录结束时间\n",
    "end_time = time.time()\n",
    "\n",
    "# 计算执行时间\n",
    "execution_time = end_time - start_time\n",
    "\n",
    "# 计算浮点运算次数 (FLOPs)\n",
    "flops = 2 * N**3\n",
    "\n",
    "# 计算算力 (FLOPs per second)\n",
    "flops_per_second = flops / execution_time\n",
    "\n",
    "# 转换为 GFLOPs\n",
    "gflops = flops_per_second / 1e9\n",
    "\n",
    "print(f\"GPU FP64 算力: {gflops:.2f} GFLOPs\")"
   ]
  }
 ],
 "metadata": {
  "kernelspec": {
   "display_name": "Python 3",
   "language": "python",
   "name": "python3"
  },
  "language_info": {
   "codemirror_mode": {
    "name": "ipython",
    "version": 3
   },
   "file_extension": ".py",
   "mimetype": "text/x-python",
   "name": "python",
   "nbconvert_exporter": "python",
   "pygments_lexer": "ipython3",
   "version": "3.12.7"
  }
 },
 "nbformat": 4,
 "nbformat_minor": 2
}
